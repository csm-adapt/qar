{
 "cells": [
  {
   "cell_type": "code",
   "execution_count": 1,
   "metadata": {},
   "outputs": [],
   "source": [
    "%matplotlib inline"
   ]
  },
  {
   "cell_type": "code",
   "execution_count": 2,
   "metadata": {},
   "outputs": [
    {
     "name": "stderr",
     "output_type": "stream",
     "text": [
      "Using TensorFlow backend.\n"
     ]
    }
   ],
   "source": [
    "# Create your first MLP in Keras\n",
    "from keras import optimizers, initializers\n",
    "from keras.models import Sequential\n",
    "from keras.layers import Dense\n",
    "from keras.wrappers.scikit_learn import KerasRegressor\n",
    "from sklearn.preprocessing import StandardScaler\n",
    "from sklearn.model_selection import KFold, cross_val_score\n",
    "from sklearn.pipeline import Pipeline\n",
    "from matplotlib import pyplot as plt\n",
    "import re\n",
    "import matplotlib as mpl\n",
    "import numpy as np\n",
    "import pandas as pd\n",
    "\n",
    "plt.rcParams.update({\n",
    "    'figure.figsize': (9, 6),\n",
    "    'font.family': 'serif',\n",
    "    'font.size': 16\n",
    "})"
   ]
  },
  {
   "cell_type": "code",
   "execution_count": 3,
   "metadata": {},
   "outputs": [],
   "source": [
    "# fix random seed for reproducibility\n",
    "np.random.seed(7)"
   ]
  },
  {
   "cell_type": "code",
   "execution_count": 4,
   "metadata": {},
   "outputs": [],
   "source": [
    "def verify_measured_format(dataset):\n",
    "    good = True\n",
    "    good &= all([(k in dataset) for k in\n",
    "                 (\"Meas-GS-A\",\n",
    "                  \"Meas-GS-B\",\n",
    "                  \"Meas-FvA\",\n",
    "                  \"Meas X\",\n",
    "                  \"Meas Y\",\n",
    "                  \"Meas Z\",\n",
    "                  \"Meas YS\")])\n",
    "    return good\n",
    "\n",
    "def remap_measured_column_names(dataset):\n",
    "    rename = {\n",
    "        \"Meas-GS-A\": \"Grain size, A (um)\",\n",
    "        \"Meas-GS-B\": \"Grain size, B (um)\",\n",
    "        \"Meas-FvA\": \"Volume fraction A\",\n",
    "        \"Meas X\": \"Solute concentration, X (ppm)\",\n",
    "        \"Meas Y\": \"Solute concentration, Y (ppm)\",\n",
    "        \"Meas Z\": \"Solute concentration, Z (ppm)\",\n",
    "        \"Meas YS\": \"Yield strength (MPa)\"\n",
    "    }\n",
    "    columns = list(dataset.columns)\n",
    "    try:\n",
    "        newcolumns = [rename[k] for k in rename]\n",
    "    except KeyError:\n",
    "        raise KeyError(\"Unrecognized column names cannot be remapped.\")\n",
    "    dataset.columns = newcolumns\n",
    "    \n",
    "def verify_modeled_format(dataset):\n",
    "    good = True\n",
    "    good &= all([(k in dataset) for k in\n",
    "                 (\"GS-A (um)\",\n",
    "                  \"GS-B (um)\",\n",
    "                  \"Fv-A\",\n",
    "                  \"Solute X in A\",\n",
    "                  \"Solute Y in A\",\n",
    "                  \"Solute Z in B\",\n",
    "                  \"YS (MPa)\")])\n",
    "    return good\n",
    "\n",
    "def remap_modeled_column_names(dataset):\n",
    "    rename = {\n",
    "        \"GS-A (um)\": \"Grain size, A (um)\",\n",
    "        \"GS-B (um)\": \"Grain size, B (um)\",\n",
    "        \"Fv-A\": \"Volume fraction A\",\n",
    "        \"Solute X in A\": \"Solute concentration, X (ppm)\",\n",
    "        \"Solute Y in A\": \"Solute concentration, Y (ppm)\",\n",
    "        \"Solute Z in B\": \"Solute concentration, Z (ppm)\",\n",
    "        \"YS (MPa)\": \"Yield strength (MPa)\"\n",
    "    }\n",
    "    columns = list(dataset.columns)\n",
    "    try:\n",
    "        newcolumns = [rename[k] for k in rename]\n",
    "    except KeyError:\n",
    "        raise KeyError(\"Unrecognized column names cannot be remapped.\")\n",
    "    dataset.columns = newcolumns"
   ]
  },
  {
   "cell_type": "code",
   "execution_count": 5,
   "metadata": {},
   "outputs": [],
   "source": [
    "# load the yield strength data set\n",
    "# dataset = pd.read_excel(\"../data/Database 1 for new NN-poly test.xlsx\",\n",
    "#                         sheet_name=\"YS Model\",\n",
    "#                         skiprows=1,\n",
    "#                         usecols='I:O')\n",
    "dataset = pd.read_excel(\"data/Database 1 for new NN-poly test.xlsx\",\n",
    "                        sheet_name=\"Extended YS Model\",\n",
    "                        skiprows=1,\n",
    "                        usecols='B:H')\n",
    "\n",
    "# verify data format\n",
    "verify_modeled_format(dataset)\n",
    "\n",
    "# remap column names\n",
    "remap_modeled_column_names(dataset)\n",
    "\n",
    "# split into input (X) and output (Y) variables\n",
    "feature_names = [\"Grain size, A (um)\",\n",
    "                 \"Grain size, B (um)\",\n",
    "                 \"Volume fraction A\",\n",
    "                 \"Solute concentration, X (ppm)\",\n",
    "                 \"Solute concentration, Y (ppm)\",\n",
    "                 \"Solute concentration, Z (ppm)\"]\n",
    "target_name = \"Yield strength (MPa)\"\n",
    "X = dataset.loc[:, feature_names].values\n",
    "Y = dataset.loc[:, target_name].values[:, np.newaxis]\n",
    "scaler = StandardScaler()\n",
    "scaler.fit(X);"
   ]
  },
  {
   "cell_type": "code",
   "execution_count": 6,
   "metadata": {},
   "outputs": [
    {
     "name": "stdout",
     "output_type": "stream",
     "text": [
      "Dataset shape: (3168, 7)\n"
     ]
    },
    {
     "data": {
      "text/html": [
       "<div>\n",
       "<style scoped>\n",
       "    .dataframe tbody tr th:only-of-type {\n",
       "        vertical-align: middle;\n",
       "    }\n",
       "\n",
       "    .dataframe tbody tr th {\n",
       "        vertical-align: top;\n",
       "    }\n",
       "\n",
       "    .dataframe thead th {\n",
       "        text-align: right;\n",
       "    }\n",
       "</style>\n",
       "<table border=\"1\" class=\"dataframe\">\n",
       "  <thead>\n",
       "    <tr style=\"text-align: right;\">\n",
       "      <th></th>\n",
       "      <th>Grain size, A (um)</th>\n",
       "      <th>Grain size, B (um)</th>\n",
       "      <th>Volume fraction A</th>\n",
       "      <th>Solute concentration, X (ppm)</th>\n",
       "      <th>Solute concentration, Y (ppm)</th>\n",
       "      <th>Solute concentration, Z (ppm)</th>\n",
       "      <th>Yield strength (MPa)</th>\n",
       "    </tr>\n",
       "  </thead>\n",
       "  <tbody>\n",
       "    <tr>\n",
       "      <th>count</th>\n",
       "      <td>3168.000000</td>\n",
       "      <td>3168.000000</td>\n",
       "      <td>3168.000000</td>\n",
       "      <td>3168.000000</td>\n",
       "      <td>3168.000000</td>\n",
       "      <td>3168.000000</td>\n",
       "      <td>3168.000000</td>\n",
       "    </tr>\n",
       "    <tr>\n",
       "      <th>mean</th>\n",
       "      <td>14.363005</td>\n",
       "      <td>22.841540</td>\n",
       "      <td>0.751840</td>\n",
       "      <td>7.970644</td>\n",
       "      <td>7.029356</td>\n",
       "      <td>0.754223</td>\n",
       "      <td>641.940888</td>\n",
       "    </tr>\n",
       "    <tr>\n",
       "      <th>std</th>\n",
       "      <td>6.329011</td>\n",
       "      <td>12.980621</td>\n",
       "      <td>0.117842</td>\n",
       "      <td>4.295020</td>\n",
       "      <td>4.295020</td>\n",
       "      <td>0.147293</td>\n",
       "      <td>128.331820</td>\n",
       "    </tr>\n",
       "    <tr>\n",
       "      <th>min</th>\n",
       "      <td>4.000000</td>\n",
       "      <td>1.000000</td>\n",
       "      <td>0.550000</td>\n",
       "      <td>1.000000</td>\n",
       "      <td>0.000000</td>\n",
       "      <td>0.500000</td>\n",
       "      <td>348.918388</td>\n",
       "    </tr>\n",
       "    <tr>\n",
       "      <th>25%</th>\n",
       "      <td>9.000000</td>\n",
       "      <td>11.000000</td>\n",
       "      <td>0.650000</td>\n",
       "      <td>4.000000</td>\n",
       "      <td>3.000000</td>\n",
       "      <td>0.630000</td>\n",
       "      <td>547.103640</td>\n",
       "    </tr>\n",
       "    <tr>\n",
       "      <th>50%</th>\n",
       "      <td>14.000000</td>\n",
       "      <td>23.000000</td>\n",
       "      <td>0.760000</td>\n",
       "      <td>8.000000</td>\n",
       "      <td>7.000000</td>\n",
       "      <td>0.760000</td>\n",
       "      <td>645.323020</td>\n",
       "    </tr>\n",
       "    <tr>\n",
       "      <th>75%</th>\n",
       "      <td>20.000000</td>\n",
       "      <td>34.000000</td>\n",
       "      <td>0.850000</td>\n",
       "      <td>12.000000</td>\n",
       "      <td>11.000000</td>\n",
       "      <td>0.880000</td>\n",
       "      <td>738.808673</td>\n",
       "    </tr>\n",
       "    <tr>\n",
       "      <th>max</th>\n",
       "      <td>25.000000</td>\n",
       "      <td>45.000000</td>\n",
       "      <td>0.950000</td>\n",
       "      <td>15.000000</td>\n",
       "      <td>14.000000</td>\n",
       "      <td>1.000000</td>\n",
       "      <td>916.505787</td>\n",
       "    </tr>\n",
       "  </tbody>\n",
       "</table>\n",
       "</div>"
      ],
      "text/plain": [
       "       Grain size, A (um)  Grain size, B (um)  Volume fraction A  \\\n",
       "count         3168.000000         3168.000000        3168.000000   \n",
       "mean            14.363005           22.841540           0.751840   \n",
       "std              6.329011           12.980621           0.117842   \n",
       "min              4.000000            1.000000           0.550000   \n",
       "25%              9.000000           11.000000           0.650000   \n",
       "50%             14.000000           23.000000           0.760000   \n",
       "75%             20.000000           34.000000           0.850000   \n",
       "max             25.000000           45.000000           0.950000   \n",
       "\n",
       "       Solute concentration, X (ppm)  Solute concentration, Y (ppm)  \\\n",
       "count                    3168.000000                    3168.000000   \n",
       "mean                        7.970644                       7.029356   \n",
       "std                         4.295020                       4.295020   \n",
       "min                         1.000000                       0.000000   \n",
       "25%                         4.000000                       3.000000   \n",
       "50%                         8.000000                       7.000000   \n",
       "75%                        12.000000                      11.000000   \n",
       "max                        15.000000                      14.000000   \n",
       "\n",
       "       Solute concentration, Z (ppm)  Yield strength (MPa)  \n",
       "count                    3168.000000           3168.000000  \n",
       "mean                        0.754223            641.940888  \n",
       "std                         0.147293            128.331820  \n",
       "min                         0.500000            348.918388  \n",
       "25%                         0.630000            547.103640  \n",
       "50%                         0.760000            645.323020  \n",
       "75%                         0.880000            738.808673  \n",
       "max                         1.000000            916.505787  "
      ]
     },
     "execution_count": 6,
     "metadata": {},
     "output_type": "execute_result"
    }
   ],
   "source": [
    "print(f\"Dataset shape: {dataset.shape}\")\n",
    "dataset.describe()"
   ]
  },
  {
   "cell_type": "code",
   "execution_count": 25,
   "metadata": {},
   "outputs": [
    {
     "data": {
      "image/png": "[encoded data removed]",
      "text/plain": [
       "<Figure size 648x432 with 9 Axes>"
      ]
     },
     "metadata": {},
     "output_type": "display_data"
    }
   ],
   "source": [
    "fig = dataset.hist(figsize=(9, 6));\n",
    "[x.title.set_size(12) for x in fig.ravel()];\n",
    "[x.tick_params(labelsize=10) for x in fig.ravel()];"
   ]
  },
  {
   "cell_type": "code",
   "execution_count": 128,
   "metadata": {},
   "outputs": [
    {
     "name": "stdout",
     "output_type": "stream",
     "text": [
      "Results: -980.46 (105.34) MSE\n"
     ]
    }
   ],
   "source": [
    "# create model\n",
    "def baseline_model():\n",
    "    hidden_units = 16\n",
    "    opts = {\n",
    "        'activation': 'relu',\n",
    "        'kernel_initializer': 'normal',\n",
    "        'use_bias': True\n",
    "    }\n",
    "    model = Sequential()\n",
    "    model.add(Dense(hidden_units, input_dim=6, **opts))\n",
    "    model.add(Dense(hidden_units, **opts))\n",
    "    model.add(Dense(1))\n",
    "    # Compile model\n",
    "    model.compile(loss='mean_squared_error',\n",
    "                  optimizer='adam',\n",
    "                  metrics=['mse', 'mae', 'mape'])\n",
    "    return model\n",
    "\n",
    "# Use the KerasRegressor wrapper\n",
    "estimators = []\n",
    "estimators.append(('standardize', StandardScaler()))\n",
    "estimators.append(('mlp', KerasRegressor(baseline_model,\n",
    "                                         epochs=100,\n",
    "                                         batch_size=5,\n",
    "                                         verbose=0)))\n",
    "pipeline = Pipeline(estimators)\n",
    "kf = KFold(n_splits=5, random_state=7)\n",
    "results = cross_val_score(pipeline, X, Y, cv=kf)\n",
    "print(\"Results: %.2f (%.2f) MSE\" % (results.mean(), results.std()))\n",
    "\n",
    "history = pipeline.fit(X, Y)"
   ]
  },
  {
   "cell_type": "code",
   "execution_count": 129,
   "metadata": {},
   "outputs": [
    {
     "data": {
      "image/png": "[encoded data removed]",
      "text/plain": [
       "<Figure size 648x432 with 1 Axes>"
      ]
     },
     "metadata": {},
     "output_type": "display_data"
    }
   ],
   "source": [
    "# Plot predicted vs. actual\n",
    "plt.figure()\n",
    "yactual = Y.ravel()\n",
    "ypred = pipeline.predict(X).ravel()\n",
    "lo = min(np.min(yactual), np.min(ypred))\n",
    "hi = max(np.max(yactual), np.max(yactual))\n",
    "plt.scatter(Y.ravel(), ypred)\n",
    "plt.plot([lo, hi], [lo, hi], 'r-')\n",
    "plt.title(\"Predictive model performance\")\n",
    "plt.xlabel(\"Actual\")\n",
    "plt.ylabel(\"Predicted\")\n",
    "plt.show()"
   ]
  },
  {
   "cell_type": "code",
   "execution_count": 130,
   "metadata": {},
   "outputs": [
    {
     "data": {
      "text/plain": [
       "[(6, 16), (16,), (16, 16), (16,), (16, 1), (1,)]"
      ]
     },
     "execution_count": 130,
     "metadata": {},
     "output_type": "execute_result"
    }
   ],
   "source": [
    "weights = pipeline.get_params()['mlp'].model.get_weights()\n",
    "[wts.shape for wts in weights]"
   ]
  },
  {
   "cell_type": "code",
   "execution_count": 133,
   "metadata": {},
   "outputs": [
    {
     "data": {
      "text/plain": [
       "array([1.555094 , 1.8752394, 1.6786125, 1.6531521, 1.6923159, 1.5776169,\n",
       "       1.6928694, 1.6467534, 1.7895095, 1.6431001, 1.7103826, 1.6741103,\n",
       "       1.7381296, 1.269688 , 1.6464734, 1.6222416], dtype=float32)"
      ]
     },
     "execution_count": 133,
     "metadata": {},
     "output_type": "execute_result"
    }
   ],
   "source": [
    "weights[1]"
   ]
  },
  {
   "cell_type": "code",
   "execution_count": null,
   "metadata": {},
   "outputs": [],
   "source": []
  }
 ],
 "metadata": {
  "kernelspec": {
   "display_name": "Python 3",
   "language": "python",
   "name": "python3"
  },
  "language_info": {
   "codemirror_mode": {
    "name": "ipython",
    "version": 3
   },
   "file_extension": ".py",
   "mimetype": "text/x-python",
   "name": "python",
   "nbconvert_exporter": "python",
   "pygments_lexer": "ipython3",
   "version": "3.6.7"
  }
 },
 "nbformat": 4,
 "nbformat_minor": 2
}
