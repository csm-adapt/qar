{
 "cells": [
  {
   "cell_type": "code",
   "execution_count": 1,
   "metadata": {},
   "outputs": [],
   "source": [
    "%matplotlib inline"
   ]
  },
  {
   "cell_type": "code",
   "execution_count": 15,
   "metadata": {},
   "outputs": [],
   "source": [
    "import numpy as np\n",
    "from scipy.special import zeta\n",
    "from matplotlib import pyplot as plt"
   ]
  },
  {
   "cell_type": "code",
   "execution_count": 140,
   "metadata": {},
   "outputs": [],
   "source": [
    "class PowerExpansion(list):\n",
    "    def __init__(self, *args, **kwds):\n",
    "        \"\"\"\n",
    "        Establishes the API for expansion objects. Since these can,\n",
    "        and often will, be constructed incrementally, it is preferrable\n",
    "        to use a stateful object.\n",
    "        \n",
    "        A power series expansion is defined as\n",
    "        \n",
    "        .. math::\n",
    "        \n",
    "            f(x) = \\sum_{k=0}^\\infty a_n x^n\n",
    "        \n",
    "        therefore, only the coefficients need be known to calculate\n",
    "        the function approximation. This can be done by calling the\n",
    "        power expansion as a function.\n",
    "        \n",
    "        Parameters\n",
    "        ----------\n",
    "        This takes the same arguments as list.\n",
    "        \n",
    "        Examples\n",
    "        --------\n",
    "        \n",
    "        .. code:: python\n",
    "\n",
    "            empty = PowerExpansion() # creates an empty expansion\n",
    "            order_7 = PowerExpansion(7*[0]) # creates a 7th order expansion\n",
    "        \"\"\"\n",
    "        super().__init__(self, *args, **kwds)\n",
    "        self._generating_function = None\n",
    "        \n",
    "    def __call__(self, x):\n",
    "        x = np.asarray(x)\n",
    "        index = 0\n",
    "        # find how many coefficients have been set\n",
    "        while True:\n",
    "            try:\n",
    "                _ = self[index]\n",
    "                index += 1\n",
    "            except IndexError:\n",
    "                break\n",
    "        # calculate sum_{k=0}^{index} c_k x^k\n",
    "        ck = np.array(self[:index]) # c_k\n",
    "        k = np.arange(index)        # k\n",
    "        # to reduce numerical instabilities at large powers,\n",
    "        # convert the coefficients to a power of x, i.e.\n",
    "        # x: x = sign(x)*|x|\n",
    "        # c_k: c_k = sign(c_k)*x^{log_x(|c_k|)}\n",
    "        # c_k x^k = sign(c_k)*sign(x)^k*|x|^{k + log_|x|(|c_k|)}\n",
    "        sign_ck = np.sign(ck)\n",
    "        sign_x = np.sign(x)\n",
    "        # |x|\n",
    "#         X = np.repeat(np.abs(x)[:, np.newaxis], index, axis=-1)\n",
    "        # |x|^{k + log_|x|(|c_k|)}\n",
    "        # e^{k ln(|x|) + ln(|c_k|)}\n",
    "#         xpow = k + np.divide(np.log(np.abs(ck)),\n",
    "#                              np.log(np.abs(x))[:, np.newaxis])\n",
    "        xpow = k*np.log(np.abs(x))[:, np.newaxis] + \\\n",
    "                np.log(np.abs(ck))\n",
    "        X[np.isnan(xpow)] = 0\n",
    "        X = np.exp**xpow\n",
    "        # sign(x)^k*...\n",
    "        X = sign_x[:, np.newaxis]**k * X # broadcast sign(x) along rows\n",
    "        # sign(c_k)*...\n",
    "        X = sign_ck*X               # broadcast sign(ck) along columns\n",
    "        # return sum along the last axis\n",
    "        return np.sum(X, axis=-1)\n",
    "        \n",
    "    def get(self, index):\n",
    "        \"\"\"\n",
    "        Returns the value stored at element :code:`index`, if no value\n",
    "        is stored at that index, the generating function is used to\n",
    "        calculate the value. If no generating function has been set,\n",
    "        then a ValueError is raised.\n",
    "        \"\"\"\n",
    "        try:\n",
    "            return super().__getitem__(index)\n",
    "        except IndexError:\n",
    "            if self._generating_function is not None:\n",
    "                return self._generating_function(index)\n",
    "            else:\n",
    "                raise ValueError(\"No generating function has been defined.\")\n",
    "        \n",
    "    def fill(self, index):\n",
    "        \"\"\"\n",
    "        Populates the coefficients out to, and including, :code:`index`.\n",
    "        \"\"\"\n",
    "        for i in range(index):\n",
    "            try:\n",
    "                _ = self[index]\n",
    "            except IndexError:\n",
    "                self.append(self.get(i))\n",
    "        \n",
    "    def get_generating_function(self):\n",
    "        return self._generating_function\n",
    "    \n",
    "    def set_generating_function(self, func):\n",
    "        \"\"\"\n",
    "        Sets the generating function for the coefficients. If set, the\n",
    "        generating function is called to calculate the coefficients. To\n",
    "        bypass the generating function, see :code:`lookup`.\n",
    "        \n",
    "        Parameters\n",
    "        ----------\n",
    "        :param func: Function that calculates the power series expansion\n",
    "            coefficient at a given index.\n",
    "        :type func: Unary function, signature :code:`func(index)`.\n",
    "        \"\"\"\n",
    "        self._generating_function = func\n",
    "        \n",
    "class LogisticSigmoidExpansion(PowerExpansion):\n",
    "    @staticmethod\n",
    "    def coeff_generating_function(n):\n",
    "        if n == 0:\n",
    "            rval = 0.5\n",
    "        elif n % 2 == 1:\n",
    "            rval = ((-1)**((n+3)/2) *\n",
    "                    2 *\n",
    "                    (4*np.pi)**(-((n+1)/2)) *\n",
    "                    (4**((n+1)/2) - 1) *\n",
    "                    zeta(n+1))\n",
    "        else:\n",
    "            rval = 0\n",
    "        return rval\n",
    "    \n",
    "    @staticmethod\n",
    "    def log_coeff_generating_function(n):\n",
    "        if n == 0:\n",
    "            rval = (1, np.log(0.5))\n",
    "        elif n % 2 == 1:\n",
    "            rval = ((-1)**((n+3)/2) *\n",
    "                    2 *\n",
    "                    (4*np.pi**2)**(-((n+1)/2)) *\n",
    "                    (4**((n+1)/2) - 1) *\n",
    "                    zeta(n+1))\n",
    "            ln2 = np.log(2)\n",
    "            pi_term = -(n+1)/2*(np.log(4) + 2*np.log(np.pi))\n",
    "            if n > 14:\n",
    "                pow4_term = (n+1)/2*np.log(4)\n",
    "            else:\n",
    "                pow4_term = np.log(4**((n+1)/2)-1)\n",
    "            rval = ((-1)**((n+3)/2),\n",
    "                    np.log(2) - (n+1)/2 * (np.log(4) + 2*np.log(np.pi))\n",
    "        else:\n",
    "            rval = 0\n",
    "        return rval\n",
    "    \n",
    "    def __init__(self, *args, **kwds):\n",
    "        super().__init__(*args, **kwds)\n",
    "        self.set_generating_function(\n",
    "            LogisticSigmoidExpansion.coeff_generating_function)"
   ]
  },
  {
   "cell_type": "code",
   "execution_count": 141,
   "metadata": {},
   "outputs": [],
   "source": [
    "sig = LogisticSigmoidExpansion()"
   ]
  },
  {
   "cell_type": "code",
   "execution_count": 142,
   "metadata": {},
   "outputs": [
    {
     "data": {
      "text/plain": [
       "[0.5,\n",
       " 0.7853981633974484,\n",
       " 0,\n",
       " -0.19327200601984604,\n",
       " 0,\n",
       " 0.06355835917038706,\n",
       " 0,\n",
       " -0.020453014155255897,\n",
       " 0,\n",
       " 0.006529169858902421]"
      ]
     },
     "execution_count": 142,
     "metadata": {},
     "output_type": "execute_result"
    }
   ],
   "source": [
    "[sig.get(i) for i in range(10)]"
   ]
  },
  {
   "cell_type": "code",
   "execution_count": 143,
   "metadata": {},
   "outputs": [
    {
     "ename": "OverflowError",
     "evalue": "(34, 'Result too large')",
     "output_type": "error",
     "traceback": [
      "\u001b[0;31m---------------------------------------------------------------------------\u001b[0m",
      "\u001b[0;31mIndexError\u001b[0m                                Traceback (most recent call last)",
      "\u001b[0;32m<ipython-input-140-32c9924fdf8d>\u001b[0m in \u001b[0;36mfill\u001b[0;34m(self, index)\u001b[0m\n\u001b[1;32m     89\u001b[0m             \u001b[0;32mtry\u001b[0m\u001b[0;34m:\u001b[0m\u001b[0;34m\u001b[0m\u001b[0;34m\u001b[0m\u001b[0m\n\u001b[0;32m---> 90\u001b[0;31m                 \u001b[0m_\u001b[0m \u001b[0;34m=\u001b[0m \u001b[0mself\u001b[0m\u001b[0;34m[\u001b[0m\u001b[0mindex\u001b[0m\u001b[0;34m]\u001b[0m\u001b[0;34m\u001b[0m\u001b[0;34m\u001b[0m\u001b[0m\n\u001b[0m\u001b[1;32m     91\u001b[0m             \u001b[0;32mexcept\u001b[0m \u001b[0mIndexError\u001b[0m\u001b[0;34m:\u001b[0m\u001b[0;34m\u001b[0m\u001b[0;34m\u001b[0m\u001b[0m\n",
      "\u001b[0;31mIndexError\u001b[0m: list index out of range",
      "\nDuring handling of the above exception, another exception occurred:\n",
      "\u001b[0;31mIndexError\u001b[0m                                Traceback (most recent call last)",
      "\u001b[0;32m<ipython-input-140-32c9924fdf8d>\u001b[0m in \u001b[0;36mget\u001b[0;34m(self, index)\u001b[0m\n\u001b[1;32m     76\u001b[0m         \u001b[0;32mtry\u001b[0m\u001b[0;34m:\u001b[0m\u001b[0;34m\u001b[0m\u001b[0;34m\u001b[0m\u001b[0m\n\u001b[0;32m---> 77\u001b[0;31m             \u001b[0;32mreturn\u001b[0m \u001b[0msuper\u001b[0m\u001b[0;34m(\u001b[0m\u001b[0;34m)\u001b[0m\u001b[0;34m.\u001b[0m\u001b[0m__getitem__\u001b[0m\u001b[0;34m(\u001b[0m\u001b[0mindex\u001b[0m\u001b[0;34m)\u001b[0m\u001b[0;34m\u001b[0m\u001b[0;34m\u001b[0m\u001b[0m\n\u001b[0m\u001b[1;32m     78\u001b[0m         \u001b[0;32mexcept\u001b[0m \u001b[0mIndexError\u001b[0m\u001b[0;34m:\u001b[0m\u001b[0;34m\u001b[0m\u001b[0;34m\u001b[0m\u001b[0m\n",
      "\u001b[0;31mIndexError\u001b[0m: list index out of range",
      "\nDuring handling of the above exception, another exception occurred:\n",
      "\u001b[0;31mOverflowError\u001b[0m                             Traceback (most recent call last)",
      "\u001b[0;32m<ipython-input-143-454927342c6f>\u001b[0m in \u001b[0;36m<module>\u001b[0;34m()\u001b[0m\n\u001b[0;32m----> 1\u001b[0;31m \u001b[0msig\u001b[0m\u001b[0;34m.\u001b[0m\u001b[0mfill\u001b[0m\u001b[0;34m(\u001b[0m\u001b[0;36m100000\u001b[0m\u001b[0;34m)\u001b[0m\u001b[0;34m\u001b[0m\u001b[0;34m\u001b[0m\u001b[0m\n\u001b[0m\u001b[1;32m      2\u001b[0m \u001b[0;34m\u001b[0m\u001b[0m\n\u001b[1;32m      3\u001b[0m \u001b[0mx\u001b[0m \u001b[0;34m=\u001b[0m \u001b[0mnp\u001b[0m\u001b[0;34m.\u001b[0m\u001b[0mlinspace\u001b[0m\u001b[0;34m(\u001b[0m\u001b[0;34m-\u001b[0m\u001b[0;36m5\u001b[0m\u001b[0;34m,\u001b[0m \u001b[0;36m5\u001b[0m\u001b[0;34m,\u001b[0m \u001b[0mnum\u001b[0m\u001b[0;34m=\u001b[0m\u001b[0;36m200\u001b[0m\u001b[0;34m)\u001b[0m\u001b[0;34m\u001b[0m\u001b[0;34m\u001b[0m\u001b[0m\n\u001b[1;32m      4\u001b[0m \u001b[0mplt\u001b[0m\u001b[0;34m.\u001b[0m\u001b[0mplot\u001b[0m\u001b[0;34m(\u001b[0m\u001b[0mx\u001b[0m\u001b[0;34m,\u001b[0m \u001b[0msig\u001b[0m\u001b[0;34m(\u001b[0m\u001b[0mx\u001b[0m\u001b[0;34m)\u001b[0m\u001b[0;34m)\u001b[0m\u001b[0;34m;\u001b[0m\u001b[0;34m\u001b[0m\u001b[0;34m\u001b[0m\u001b[0m\n\u001b[1;32m      5\u001b[0m \u001b[0mplt\u001b[0m\u001b[0;34m.\u001b[0m\u001b[0mxlim\u001b[0m\u001b[0;34m(\u001b[0m\u001b[0;34m-\u001b[0m\u001b[0;36m5\u001b[0m\u001b[0;34m,\u001b[0m \u001b[0;36m5\u001b[0m\u001b[0;34m)\u001b[0m\u001b[0;34m;\u001b[0m\u001b[0;34m\u001b[0m\u001b[0;34m\u001b[0m\u001b[0m\n",
      "\u001b[0;32m<ipython-input-140-32c9924fdf8d>\u001b[0m in \u001b[0;36mfill\u001b[0;34m(self, index)\u001b[0m\n\u001b[1;32m     90\u001b[0m                 \u001b[0m_\u001b[0m \u001b[0;34m=\u001b[0m \u001b[0mself\u001b[0m\u001b[0;34m[\u001b[0m\u001b[0mindex\u001b[0m\u001b[0;34m]\u001b[0m\u001b[0;34m\u001b[0m\u001b[0;34m\u001b[0m\u001b[0m\n\u001b[1;32m     91\u001b[0m             \u001b[0;32mexcept\u001b[0m \u001b[0mIndexError\u001b[0m\u001b[0;34m:\u001b[0m\u001b[0;34m\u001b[0m\u001b[0;34m\u001b[0m\u001b[0m\n\u001b[0;32m---> 92\u001b[0;31m                 \u001b[0mself\u001b[0m\u001b[0;34m.\u001b[0m\u001b[0mappend\u001b[0m\u001b[0;34m(\u001b[0m\u001b[0mself\u001b[0m\u001b[0;34m.\u001b[0m\u001b[0mget\u001b[0m\u001b[0;34m(\u001b[0m\u001b[0mi\u001b[0m\u001b[0;34m)\u001b[0m\u001b[0;34m)\u001b[0m\u001b[0;34m\u001b[0m\u001b[0;34m\u001b[0m\u001b[0m\n\u001b[0m\u001b[1;32m     93\u001b[0m \u001b[0;34m\u001b[0m\u001b[0m\n\u001b[1;32m     94\u001b[0m     \u001b[0;32mdef\u001b[0m \u001b[0mget_generating_function\u001b[0m\u001b[0;34m(\u001b[0m\u001b[0mself\u001b[0m\u001b[0;34m)\u001b[0m\u001b[0;34m:\u001b[0m\u001b[0;34m\u001b[0m\u001b[0;34m\u001b[0m\u001b[0m\n",
      "\u001b[0;32m<ipython-input-140-32c9924fdf8d>\u001b[0m in \u001b[0;36mget\u001b[0;34m(self, index)\u001b[0m\n\u001b[1;32m     78\u001b[0m         \u001b[0;32mexcept\u001b[0m \u001b[0mIndexError\u001b[0m\u001b[0;34m:\u001b[0m\u001b[0;34m\u001b[0m\u001b[0;34m\u001b[0m\u001b[0m\n\u001b[1;32m     79\u001b[0m             \u001b[0;32mif\u001b[0m \u001b[0mself\u001b[0m\u001b[0;34m.\u001b[0m\u001b[0m_generating_function\u001b[0m \u001b[0;32mis\u001b[0m \u001b[0;32mnot\u001b[0m \u001b[0;32mNone\u001b[0m\u001b[0;34m:\u001b[0m\u001b[0;34m\u001b[0m\u001b[0;34m\u001b[0m\u001b[0m\n\u001b[0;32m---> 80\u001b[0;31m                 \u001b[0;32mreturn\u001b[0m \u001b[0mself\u001b[0m\u001b[0;34m.\u001b[0m\u001b[0m_generating_function\u001b[0m\u001b[0;34m(\u001b[0m\u001b[0mindex\u001b[0m\u001b[0;34m)\u001b[0m\u001b[0;34m\u001b[0m\u001b[0;34m\u001b[0m\u001b[0m\n\u001b[0m\u001b[1;32m     81\u001b[0m             \u001b[0;32melse\u001b[0m\u001b[0;34m:\u001b[0m\u001b[0;34m\u001b[0m\u001b[0;34m\u001b[0m\u001b[0m\n\u001b[1;32m     82\u001b[0m                 \u001b[0;32mraise\u001b[0m \u001b[0mValueError\u001b[0m\u001b[0;34m(\u001b[0m\u001b[0;34m\"No generating function has been defined.\"\u001b[0m\u001b[0;34m)\u001b[0m\u001b[0;34m\u001b[0m\u001b[0;34m\u001b[0m\u001b[0m\n",
      "\u001b[0;32m<ipython-input-140-32c9924fdf8d>\u001b[0m in \u001b[0;36mcoeff_generating_function\u001b[0;34m(n)\u001b[0m\n\u001b[1;32m    118\u001b[0m                     \u001b[0;36m2\u001b[0m \u001b[0;34m*\u001b[0m\u001b[0;34m\u001b[0m\u001b[0;34m\u001b[0m\u001b[0m\n\u001b[1;32m    119\u001b[0m                     \u001b[0;34m(\u001b[0m\u001b[0;36m4\u001b[0m\u001b[0;34m*\u001b[0m\u001b[0mnp\u001b[0m\u001b[0;34m.\u001b[0m\u001b[0mpi\u001b[0m\u001b[0;34m)\u001b[0m\u001b[0;34m**\u001b[0m\u001b[0;34m(\u001b[0m\u001b[0;34m-\u001b[0m\u001b[0;34m(\u001b[0m\u001b[0;34m(\u001b[0m\u001b[0mn\u001b[0m\u001b[0;34m+\u001b[0m\u001b[0;36m1\u001b[0m\u001b[0;34m)\u001b[0m\u001b[0;34m/\u001b[0m\u001b[0;36m2\u001b[0m\u001b[0;34m)\u001b[0m\u001b[0;34m)\u001b[0m \u001b[0;34m*\u001b[0m\u001b[0;34m\u001b[0m\u001b[0;34m\u001b[0m\u001b[0m\n\u001b[0;32m--> 120\u001b[0;31m                     \u001b[0;34m(\u001b[0m\u001b[0;36m4\u001b[0m\u001b[0;34m**\u001b[0m\u001b[0;34m(\u001b[0m\u001b[0;34m(\u001b[0m\u001b[0mn\u001b[0m\u001b[0;34m+\u001b[0m\u001b[0;36m1\u001b[0m\u001b[0;34m)\u001b[0m\u001b[0;34m/\u001b[0m\u001b[0;36m2\u001b[0m\u001b[0;34m)\u001b[0m \u001b[0;34m-\u001b[0m \u001b[0;36m1\u001b[0m\u001b[0;34m)\u001b[0m \u001b[0;34m*\u001b[0m\u001b[0;34m\u001b[0m\u001b[0;34m\u001b[0m\u001b[0m\n\u001b[0m\u001b[1;32m    121\u001b[0m                     zeta(2*n))\n\u001b[1;32m    122\u001b[0m         \u001b[0;32melse\u001b[0m\u001b[0;34m:\u001b[0m\u001b[0;34m\u001b[0m\u001b[0;34m\u001b[0m\u001b[0m\n",
      "\u001b[0;31mOverflowError\u001b[0m: (34, 'Result too large')"
     ]
    }
   ],
   "source": [
    "sig.fill(100000)\n",
    "\n",
    "x = np.linspace(-5, 5, num=200)\n",
    "plt.plot(x, sig(x));\n",
    "plt.xlim(-5, 5);\n",
    "plt.ylim(-2, 2);"
   ]
  },
  {
   "cell_type": "code",
   "execution_count": 138,
   "metadata": {},
   "outputs": [
    {
     "data": {
      "text/plain": [
       "array([[0, 1, 2, 3, 4],\n",
       "       [1, 2, 3, 4, 5],\n",
       "       [2, 3, 4, 5, 6],\n",
       "       [3, 4, 5, 6, 7],\n",
       "       [4, 5, 6, 7, 8]])"
      ]
     },
     "execution_count": 138,
     "metadata": {},
     "output_type": "execute_result"
    }
   ],
   "source": [
    "np.arange(5)[:, np.newaxis] + np.arange(5)"
   ]
  },
  {
   "cell_type": "code",
   "execution_count": null,
   "metadata": {},
   "outputs": [],
   "source": []
  }
 ],
 "metadata": {
  "kernelspec": {
   "display_name": "Python 3",
   "language": "python",
   "name": "python3"
  },
  "language_info": {
   "codemirror_mode": {
    "name": "ipython",
    "version": 3
   },
   "file_extension": ".py",
   "mimetype": "text/x-python",
   "name": "python",
   "nbconvert_exporter": "python",
   "pygments_lexer": "ipython3",
   "version": "3.6.7"
  }
 },
 "nbformat": 4,
 "nbformat_minor": 2
}
