{
 "cells": [
  {
   "cell_type": "code",
   "execution_count": 1,
   "metadata": {},
   "outputs": [],
   "source": [
    "import numpy as np\n",
    "import matplotlib.pyplot as plt"
   ]
  },
  {
   "cell_type": "markdown",
   "metadata": {},
   "source": [
    "# Analaysis of Sine Function\n",
    "---\n",
    "Here, we will find the local truncation error of each power series approximation of the sine function.\n",
    "\n",
    "We start with the exact sine function. We approximate it with a `N` degree polynomial. The difference between the exact sine and polynomial sine is the trunctation error of the first iteration.\n",
    "\n",
    "Then, for any arbitary iteration `K`. We take the polynomial sine from the previous iteration `K - 1` and apply it to itself exactly with degree `N^2` and approximately with a `N` degree polynomial. The difference between the exact application and polynomial application is the truncation error of the `K`-th iteration."
   ]
  },
  {
   "cell_type": "code",
   "execution_count": 17,
   "metadata": {},
   "outputs": [],
   "source": [
    "def factorial_term(i):\n",
    "    return (1 if i == 0 else i)\n",
    "\n",
    "def alternator_term(i):\n",
    "    return (1 if i % 2 == 0 else -1)\n",
    "\n",
    "def generate_sine_coeffs(N):\n",
    "    def generator():\n",
    "        factorial = 1\n",
    "        for i in range(N):\n",
    "            factorial = factorial * factorial_term(i)\n",
    "            if i % 2 == 0:\n",
    "                yield 0\n",
    "            else:\n",
    "                yield alternator_term(i // 2) / factorial\n",
    "            \n",
    "    \n",
    "    return list(generator())\n",
    "\n",
    "def generate_poly_function(coeffs):\n",
    "    def evaluate(x):\n",
    "        s = np.zeros_like(x)\n",
    "        for i, c in enumerate(coeffs):\n",
    "               s = s + c * np.power(x, i)\n",
    "        return s\n",
    "    \n",
    "    return evaluate\n",
    "\n",
    "def apply_poly_exact(coeffs):\n",
    "    pass\n",
    "\n",
    "def apply_poly_approx(coeffs):\n",
    "    pass\n",
    "\n",
    "N = 10\n",
    "K_max = 50\n",
    "func_exact = np.sin\n",
    "func_coeffs = generate_sine_coeffs(N)\n",
    "\n",
    "for K in range(K_max):\n",
    "    pass"
   ]
  },
  {
   "cell_type": "code",
   "execution_count": 18,
   "metadata": {},
   "outputs": [
    {
     "data": {
      "text/plain": [
       "[<matplotlib.lines.Line2D at 0x7f683a469eb8>]"
      ]
     },
     "execution_count": 18,
     "metadata": {},
     "output_type": "execute_result"
    },
    {
     "data": {
      "image/png": "[encoded data removed]",
      "text/plain": [
       "<Figure size 432x288 with 1 Axes>"
      ]
     },
     "metadata": {
      "needs_background": "light"
     },
     "output_type": "display_data"
    }
   ],
   "source": [
    "x = np.linspace(0, np.pi)\n",
    "y_exact = func_exact(x)\n",
    "y_approx = generate_poly_function(func_coeffs)(x)\n",
    "\n",
    "plt.plot(x, y_exact, 'k')\n",
    "plt.plot(x, y_approx, 'r')"
   ]
  },
  {
   "cell_type": "code",
   "execution_count": null,
   "metadata": {},
   "outputs": [],
   "source": []
  }
 ],
 "metadata": {
  "kernelspec": {
   "display_name": "Python 3",
   "language": "python",
   "name": "python3"
  },
  "language_info": {
   "codemirror_mode": {
    "name": "ipython",
    "version": 3
   },
   "file_extension": ".py",
   "mimetype": "text/x-python",
   "name": "python",
   "nbconvert_exporter": "python",
   "pygments_lexer": "ipython3",
   "version": "3.6.9"
  }
 },
 "nbformat": 4,
 "nbformat_minor": 4
}
